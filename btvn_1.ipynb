{
 "cells": [
  {
   "cell_type": "code",
   "execution_count": 1,
   "metadata": {},
   "outputs": [],
   "source": [
    "import turtle\n",
    "\n",
    "w = 400\n",
    "h = 300\n",
    "\n",
    "sc = turtle.Screen()\n",
    "sc.bgcolor('black')\n",
    "\n",
    "tl = turtle.Turtle()\n",
    "tl.shape('turtle')\n",
    "\n",
    "tl.penup()\n",
    "tl.pencolor('white')\n",
    "tl.goto(-h/2,-h/2)\n",
    "tl. pendown()\n",
    "tl.fillcolor('white')\n",
    "\n",
    "tl.begin_fill()\n",
    "for i in range(2):\n",
    "    tl.forward(w)\n",
    "    tl.left(90)\n",
    "    tl.forward(h)\n",
    "    tl.left(90)\n",
    "tl.end_fill()\n",
    "\n",
    "tl.penup()\n",
    "tl.pencolor('red')\n",
    "tl.goto(-h/2,-h/12)\n",
    "tl. pendown()\n",
    "\n",
    "tl.fillcolor('red')\n",
    "\n",
    "tl.begin_fill()\n",
    "for i in range(2):\n",
    "    tl.forward(w)\n",
    "    tl.left(90)\n",
    "    tl.forward(h/6)\n",
    "    tl.left(90)\n",
    "tl.end_fill()\n",
    "\n",
    "tl.penup()\n",
    "tl.pencolor('red')\n",
    "tl.goto(h/12,-h/2)\n",
    "tl. pendown()\n",
    "\n",
    "tl.fillcolor('red')\n",
    "\n",
    "tl.begin_fill()\n",
    "for i in range(2):\n",
    "    tl.forward(h/6)\n",
    "    tl.left(90)\n",
    "    tl.forward(h)\n",
    "    tl.left(90)\n",
    "tl.end_fill()\n",
    "turtle.done()\n"
   ]
  }
 ],
 "metadata": {
  "interpreter": {
   "hash": "d214c75ab8d1216eadbaa5a693322f926d575fb76f8b66bf2abcf5bac0e5cf6c"
  },
  "kernelspec": {
   "display_name": "Python 3.10.2 64-bit",
   "language": "python",
   "name": "python3"
  },
  "language_info": {
   "codemirror_mode": {
    "name": "ipython",
    "version": 3
   },
   "file_extension": ".py",
   "mimetype": "text/x-python",
   "name": "python",
   "nbconvert_exporter": "python",
   "pygments_lexer": "ipython3",
   "version": "3.10.2"
  },
  "orig_nbformat": 4
 },
 "nbformat": 4,
 "nbformat_minor": 2
}
