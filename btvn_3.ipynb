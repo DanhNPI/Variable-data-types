{
 "cells": [
  {
   "cell_type": "code",
   "execution_count": 2,
   "metadata": {},
   "outputs": [
    {
     "name": "stdout",
     "output_type": "stream",
     "text": [
      "Số hình lập phương chứa trong hình hộp chữ nhật là: 20029\n"
     ]
    }
   ],
   "source": [
    "# Nhập kích thước hình hộp chữ nhật\n",
    "x = 111\n",
    "y = 87\n",
    "z = 56\n",
    "\n",
    "# Kích thước hình lập phương cạnh a\n",
    "a = 3\n",
    "\n",
    "# Thể tích hình hộp chữ nhật\n",
    "v = x*y*z\n",
    "\n",
    "# Thể tích hình lập phương \n",
    "v1 = a*a*a\n",
    "\n",
    "# Tính số hình lập phương chứa trong hình hộp chữ nhật\n",
    "hs = int(v/v1)\n",
    "print ('Số hình lập phương chứa trong hình hộp chữ nhật là:', hs)"
   ]
  }
 ],
 "metadata": {
  "interpreter": {
   "hash": "d214c75ab8d1216eadbaa5a693322f926d575fb76f8b66bf2abcf5bac0e5cf6c"
  },
  "kernelspec": {
   "display_name": "Python 3.10.2 64-bit",
   "language": "python",
   "name": "python3"
  },
  "language_info": {
   "codemirror_mode": {
    "name": "ipython",
    "version": 3
   },
   "file_extension": ".py",
   "mimetype": "text/x-python",
   "name": "python",
   "nbconvert_exporter": "python",
   "pygments_lexer": "ipython3",
   "version": "3.10.2"
  },
  "orig_nbformat": 4
 },
 "nbformat": 4,
 "nbformat_minor": 2
}
