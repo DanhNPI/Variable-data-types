{
 "cells": [
  {
   "cell_type": "code",
   "execution_count": 7,
   "metadata": {},
   "outputs": [
    {
     "name": "stdout",
     "output_type": "stream",
     "text": [
      "3 điểm A, B, C là 3 đỉnh của tam giác: True\n",
      "Tam giác ABC là tam giác cân: True\n",
      "Tam giác ABC là tam giác đều: False\n",
      "Tam giác ABC là tam giác vuông: False\n",
      "Tam giác ABC là tam giác thường: False\n"
     ]
    }
   ],
   "source": [
    "import math\n",
    "\n",
    "# Tọa độ điểm A\n",
    "xA = 0\n",
    "yA = 0\n",
    "\n",
    "# Tọa độ điểm B\n",
    "xB = 1\n",
    "yB = 2\n",
    "\n",
    "# Tọa độ điểm C\n",
    "xC = 1\n",
    "yC = -2\n",
    "\n",
    "# Tính độ dài AB\n",
    "d1 = math.sqrt(math.pow(xB-xA, 2) + math.pow(yB-yA,2))\n",
    "\n",
    "# Tính độ dài AC\n",
    "d2 = math.sqrt(math.pow(xC-xA, 2) + math.pow(yC-yA,2))\n",
    "\n",
    "# Tính độ dài BC\n",
    "d3 = math.sqrt(math.pow(xC-xB, 2) + math.pow(yC-yB,2))\n",
    "\n",
    "# Kiểm tra 3 điểm A, B, C có phải 3 đỉnh của tam giác?\n",
    "kt = (d1 != d2 + d3) and (d2 != d1 + d3 ) and (d3 != d1 + d2)\n",
    "print ('3 điểm A, B, C là 3 đỉnh của tam giác:', kt)\n",
    "\n",
    "# Kiểm tra tam giác ABC có phải tam giác cân?\n",
    "kt1 = (kt == True) and ((d1 == d2) or (d2 == d3) or (d1 == d3))\n",
    "print ('Tam giác ABC là tam giác cân:', kt1)\n",
    "\n",
    "# Kiểm tra tam giác ABC là tam giác đều?\n",
    "kt2 = (kt == True) and (d1 == d2 == d3)\n",
    "print ('Tam giác ABC là tam giác đều:', kt2)\n",
    "\n",
    "# Kiểm tra tam giác ABC là tam giác vuông?\n",
    "kt3 = (kt == True) and ((math.pow(d1,2) == math.pow(d2,2) + math.pow(d3,2)) or (math.pow(d2,2) == math.pow(d1,2) + math.pow(d3,2)) or (math.pow(d3,2) == math.pow(d2,2) + math.pow(d1,2)))\n",
    "print ('Tam giác ABC là tam giác vuông:', kt3)\n",
    "\n",
    "# Là tam giác thường?\n",
    "kt4 = (kt == True) and (kt1 == False) and (kt2 == False) and (kt3 == False)\n",
    "print ('Tam giác ABC là tam giác thường:', kt4) \n"
   ]
  },
  {
   "cell_type": "code",
   "execution_count": null,
   "metadata": {},
   "outputs": [],
   "source": []
  }
 ],
 "metadata": {
  "interpreter": {
   "hash": "d214c75ab8d1216eadbaa5a693322f926d575fb76f8b66bf2abcf5bac0e5cf6c"
  },
  "kernelspec": {
   "display_name": "Python 3.10.2 64-bit",
   "language": "python",
   "name": "python3"
  },
  "language_info": {
   "codemirror_mode": {
    "name": "ipython",
    "version": 3
   },
   "file_extension": ".py",
   "mimetype": "text/x-python",
   "name": "python",
   "nbconvert_exporter": "python",
   "pygments_lexer": "ipython3",
   "version": "3.10.2"
  },
  "orig_nbformat": 4
 },
 "nbformat": 4,
 "nbformat_minor": 2
}
